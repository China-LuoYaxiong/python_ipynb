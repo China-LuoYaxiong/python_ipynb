{
 "cells": [
  {
   "cell_type": "code",
   "execution_count": 1,
   "metadata": {},
   "outputs": [],
   "source": [
    "# 设置全部行输出\n",
    "from IPython.core.interactiveshell import InteractiveShell\n",
    "InteractiveShell.ast_node_interactivity = \"all\""
   ]
  },
  {
   "cell_type": "code",
   "execution_count": 2,
   "metadata": {},
   "outputs": [
    {
     "data": {
      "text/plain": [
       "1"
      ]
     },
     "execution_count": 2,
     "metadata": {},
     "output_type": "execute_result"
    },
    {
     "data": {
      "text/plain": [
       "2"
      ]
     },
     "execution_count": 2,
     "metadata": {},
     "output_type": "execute_result"
    }
   ],
   "source": [
    "a = 1\n",
    "b = 2\n",
    "a\n",
    "b"
   ]
  },
  {
   "cell_type": "markdown",
   "metadata": {},
   "source": [
    "# 字符串\n",
    "- 不可变数据类型\n",
    "- 有序数据类型"
   ]
  },
  {
   "cell_type": "markdown",
   "metadata": {},
   "source": [
    "## 字符串的两种定义方式"
   ]
  },
  {
   "cell_type": "markdown",
   "metadata": {},
   "source": [
    "### 通过str（）函数将其他数据类型转化为字符串"
   ]
  },
  {
   "cell_type": "markdown",
   "metadata": {},
   "source": [
    "将float型的1.345转化为str型"
   ]
  },
  {
   "cell_type": "code",
   "execution_count": 3,
   "metadata": {},
   "outputs": [],
   "source": [
    "a = str(1.345)"
   ]
  },
  {
   "cell_type": "code",
   "execution_count": 4,
   "metadata": {},
   "outputs": [
    {
     "data": {
      "text/plain": [
       "'1.345'"
      ]
     },
     "execution_count": 4,
     "metadata": {},
     "output_type": "execute_result"
    }
   ],
   "source": [
    "a"
   ]
  },
  {
   "cell_type": "code",
   "execution_count": 5,
   "metadata": {},
   "outputs": [
    {
     "data": {
      "text/plain": [
       "str"
      ]
     },
     "execution_count": 5,
     "metadata": {},
     "output_type": "execute_result"
    }
   ],
   "source": [
    "type(a)"
   ]
  },
  {
   "cell_type": "markdown",
   "metadata": {},
   "source": [
    "### 直接加引号定义"
   ]
  },
  {
   "cell_type": "code",
   "execution_count": 6,
   "metadata": {},
   "outputs": [],
   "source": [
    "s = 'cda数据分析71期'"
   ]
  },
  {
   "cell_type": "code",
   "execution_count": 7,
   "metadata": {},
   "outputs": [
    {
     "data": {
      "text/plain": [
       "'cda数据分析71期'"
      ]
     },
     "execution_count": 7,
     "metadata": {},
     "output_type": "execute_result"
    }
   ],
   "source": [
    "s"
   ]
  },
  {
   "cell_type": "code",
   "execution_count": 8,
   "metadata": {},
   "outputs": [
    {
     "data": {
      "text/plain": [
       "str"
      ]
     },
     "execution_count": 8,
     "metadata": {},
     "output_type": "execute_result"
    }
   ],
   "source": [
    "type(s)"
   ]
  },
  {
   "cell_type": "markdown",
   "metadata": {},
   "source": [
    "### 练习"
   ]
  },
  {
   "cell_type": "markdown",
   "metadata": {},
   "source": [
    "**练习：创建一个'人生苦短，我用python！'的字符串。**"
   ]
  },
  {
   "cell_type": "code",
   "execution_count": null,
   "metadata": {},
   "outputs": [],
   "source": []
  },
  {
   "cell_type": "markdown",
   "metadata": {},
   "source": [
    "## 字符串的一些运算"
   ]
  },
  {
   "cell_type": "markdown",
   "metadata": {},
   "source": [
    "### +号运算，收尾拼接"
   ]
  },
  {
   "cell_type": "code",
   "execution_count": 9,
   "metadata": {},
   "outputs": [],
   "source": [
    "a = 'pyt'\n",
    "b = 'hon'"
   ]
  },
  {
   "cell_type": "code",
   "execution_count": 10,
   "metadata": {},
   "outputs": [
    {
     "data": {
      "text/plain": [
       "'python'"
      ]
     },
     "execution_count": 10,
     "metadata": {},
     "output_type": "execute_result"
    }
   ],
   "source": [
    "a+b "
   ]
  },
  {
   "cell_type": "code",
   "execution_count": 11,
   "metadata": {},
   "outputs": [
    {
     "data": {
      "text/plain": [
       "'pyt'"
      ]
     },
     "execution_count": 11,
     "metadata": {},
     "output_type": "execute_result"
    }
   ],
   "source": [
    "a"
   ]
  },
  {
   "cell_type": "code",
   "execution_count": 12,
   "metadata": {},
   "outputs": [
    {
     "data": {
      "text/plain": [
       "'hon'"
      ]
     },
     "execution_count": 12,
     "metadata": {},
     "output_type": "execute_result"
    }
   ],
   "source": [
    "b"
   ]
  },
  {
   "cell_type": "markdown",
   "metadata": {},
   "source": [
    "### *号运算，重复"
   ]
  },
  {
   "cell_type": "code",
   "execution_count": 13,
   "metadata": {},
   "outputs": [],
   "source": [
    "a = '1'"
   ]
  },
  {
   "cell_type": "code",
   "execution_count": 14,
   "metadata": {},
   "outputs": [
    {
     "data": {
      "text/plain": [
       "'11111111'"
      ]
     },
     "execution_count": 14,
     "metadata": {},
     "output_type": "execute_result"
    }
   ],
   "source": [
    "a*8"
   ]
  },
  {
   "cell_type": "code",
   "execution_count": 15,
   "metadata": {},
   "outputs": [],
   "source": [
    "b = 'abc'"
   ]
  },
  {
   "cell_type": "code",
   "execution_count": 16,
   "metadata": {},
   "outputs": [
    {
     "data": {
      "text/plain": [
       "'abcabcabcabcabcabcabcabcabcabc'"
      ]
     },
     "execution_count": 16,
     "metadata": {},
     "output_type": "execute_result"
    }
   ],
   "source": [
    "b*10"
   ]
  },
  {
   "cell_type": "markdown",
   "metadata": {},
   "source": [
    "**请大家输出100个'*'**"
   ]
  },
  {
   "cell_type": "code",
   "execution_count": null,
   "metadata": {},
   "outputs": [],
   "source": []
  },
  {
   "cell_type": "markdown",
   "metadata": {},
   "source": [
    "### in 包含运算"
   ]
  },
  {
   "cell_type": "code",
   "execution_count": 17,
   "metadata": {},
   "outputs": [],
   "source": [
    "a = '1'\n",
    "b = '2332145'"
   ]
  },
  {
   "cell_type": "code",
   "execution_count": 18,
   "metadata": {},
   "outputs": [
    {
     "data": {
      "text/plain": [
       "True"
      ]
     },
     "execution_count": 18,
     "metadata": {},
     "output_type": "execute_result"
    }
   ],
   "source": [
    "a in b   #判断a是否在b里面"
   ]
  },
  {
   "cell_type": "code",
   "execution_count": 19,
   "metadata": {},
   "outputs": [
    {
     "data": {
      "text/plain": [
       "True"
      ]
     },
     "execution_count": 19,
     "metadata": {},
     "output_type": "execute_result"
    }
   ],
   "source": [
    "\"胡\" in \"胡萝卜\""
   ]
  },
  {
   "cell_type": "code",
   "execution_count": 20,
   "metadata": {},
   "outputs": [
    {
     "data": {
      "text/plain": [
       "False"
      ]
     },
     "execution_count": 20,
     "metadata": {},
     "output_type": "execute_result"
    }
   ],
   "source": [
    "'12' in '132'"
   ]
  },
  {
   "cell_type": "code",
   "execution_count": 21,
   "metadata": {},
   "outputs": [
    {
     "data": {
      "text/plain": [
       "True"
      ]
     },
     "execution_count": 21,
     "metadata": {},
     "output_type": "execute_result"
    }
   ],
   "source": [
    "'12' not in '132'"
   ]
  },
  {
   "cell_type": "code",
   "execution_count": 22,
   "metadata": {},
   "outputs": [
    {
     "data": {
      "text/plain": [
       "True"
      ]
     },
     "execution_count": 22,
     "metadata": {},
     "output_type": "execute_result"
    }
   ],
   "source": [
    "'32' in '132'"
   ]
  },
  {
   "cell_type": "markdown",
   "metadata": {},
   "source": [
    "## 字符串的索引和切片"
   ]
  },
  {
   "attachments": {
    "image.png": {
     "image/png": "[encoded data removed]"
    }
   },
   "cell_type": "markdown",
   "metadata": {},
   "source": [
    "字符串也是一个可迭代对象, 也就是说每一个字符串实际上都有一个对应的索引值。  \n",
    "字符串的切片，就是从原字符串中提取一部分出来，可以是连续的，也可以是离散的。  \n",
    "那么字符串依靠的是什么来取得呢？那就是索引  \n",
    "![image.png](attachment:image.png)"
   ]
  },
  {
   "cell_type": "markdown",
   "metadata": {},
   "source": [
    "字符串切片的标准语法：  \n",
    "**str[开始位置: 终止位置:步长和方向]**  \n",
    "- 开始位置：即开始取的位置，这个位置的元素是能取到的。  \n",
    "- 终止位置：即停止的位置，注意**该位置的值取不到**\n",
    "- 第三个参数:不写默认是1，正数表示从左往右取，负数表示从右往左取，绝对值表示步长。"
   ]
  },
  {
   "attachments": {
    "image.png": {
     "image/png": "[encoded data removed]"
    }
   },
   "cell_type": "markdown",
   "metadata": {},
   "source": [
    "![image.png](attachment:image.png)"
   ]
  },
  {
   "cell_type": "code",
   "execution_count": 23,
   "metadata": {},
   "outputs": [
    {
     "data": {
      "text/plain": [
       "13"
      ]
     },
     "execution_count": 23,
     "metadata": {},
     "output_type": "execute_result"
    }
   ],
   "source": [
    "s = \"人生苦短,我用python\"\n",
    "len(s)   # len()函数可以用来查看字符串的长度"
   ]
  },
  {
   "cell_type": "code",
   "execution_count": 24,
   "metadata": {},
   "outputs": [
    {
     "data": {
      "text/plain": [
       "'人生苦短,我用python'"
      ]
     },
     "execution_count": 24,
     "metadata": {},
     "output_type": "execute_result"
    }
   ],
   "source": [
    "s"
   ]
  },
  {
   "cell_type": "markdown",
   "metadata": {},
   "source": [
    "**取出字符串'人'**"
   ]
  },
  {
   "cell_type": "code",
   "execution_count": null,
   "metadata": {},
   "outputs": [],
   "source": []
  },
  {
   "cell_type": "code",
   "execution_count": null,
   "metadata": {},
   "outputs": [],
   "source": []
  },
  {
   "cell_type": "markdown",
   "metadata": {},
   "source": [
    "**取出字符串','**"
   ]
  },
  {
   "cell_type": "code",
   "execution_count": null,
   "metadata": {},
   "outputs": [],
   "source": []
  },
  {
   "cell_type": "markdown",
   "metadata": {},
   "source": [
    "**取出字符串'n'**"
   ]
  },
  {
   "cell_type": "code",
   "execution_count": 25,
   "metadata": {},
   "outputs": [
    {
     "data": {
      "text/plain": [
       "'人生苦短,我用python'"
      ]
     },
     "execution_count": 25,
     "metadata": {},
     "output_type": "execute_result"
    }
   ],
   "source": [
    "s"
   ]
  },
  {
   "cell_type": "code",
   "execution_count": null,
   "metadata": {},
   "outputs": [],
   "source": []
  },
  {
   "cell_type": "code",
   "execution_count": null,
   "metadata": {},
   "outputs": [],
   "source": []
  },
  {
   "cell_type": "markdown",
   "metadata": {},
   "source": [
    "**取出字符串'h'**"
   ]
  },
  {
   "cell_type": "code",
   "execution_count": 26,
   "metadata": {},
   "outputs": [
    {
     "data": {
      "text/plain": [
       "'人生苦短,我用python'"
      ]
     },
     "execution_count": 26,
     "metadata": {},
     "output_type": "execute_result"
    }
   ],
   "source": [
    "s"
   ]
  },
  {
   "cell_type": "code",
   "execution_count": null,
   "metadata": {},
   "outputs": [],
   "source": []
  },
  {
   "cell_type": "markdown",
   "metadata": {},
   "source": [
    "**取出字符串'人生苦短'**"
   ]
  },
  {
   "cell_type": "code",
   "execution_count": 27,
   "metadata": {},
   "outputs": [
    {
     "data": {
      "text/plain": [
       "'人生苦短,我用python'"
      ]
     },
     "execution_count": 27,
     "metadata": {},
     "output_type": "execute_result"
    }
   ],
   "source": [
    "s"
   ]
  },
  {
   "cell_type": "code",
   "execution_count": null,
   "metadata": {},
   "outputs": [],
   "source": []
  },
  {
   "cell_type": "markdown",
   "metadata": {},
   "source": [
    "**取出字符串'苦短,我用py'**"
   ]
  },
  {
   "cell_type": "code",
   "execution_count": 28,
   "metadata": {},
   "outputs": [
    {
     "data": {
      "text/plain": [
       "'人生苦短,我用python'"
      ]
     },
     "execution_count": 28,
     "metadata": {},
     "output_type": "execute_result"
    }
   ],
   "source": [
    "s"
   ]
  },
  {
   "cell_type": "code",
   "execution_count": null,
   "metadata": {},
   "outputs": [],
   "source": []
  },
  {
   "cell_type": "markdown",
   "metadata": {},
   "source": [
    "**取出字符串 'python'**"
   ]
  },
  {
   "cell_type": "code",
   "execution_count": 29,
   "metadata": {},
   "outputs": [
    {
     "data": {
      "text/plain": [
       "'人生苦短,我用python'"
      ]
     },
     "execution_count": 29,
     "metadata": {},
     "output_type": "execute_result"
    }
   ],
   "source": [
    "s"
   ]
  },
  {
   "cell_type": "code",
   "execution_count": null,
   "metadata": {},
   "outputs": [],
   "source": []
  },
  {
   "cell_type": "markdown",
   "metadata": {},
   "source": [
    "**取出字符串'人苦，'**"
   ]
  },
  {
   "cell_type": "code",
   "execution_count": 30,
   "metadata": {},
   "outputs": [
    {
     "data": {
      "text/plain": [
       "'人生苦短,我用python'"
      ]
     },
     "execution_count": 30,
     "metadata": {},
     "output_type": "execute_result"
    }
   ],
   "source": [
    "s"
   ]
  },
  {
   "cell_type": "code",
   "execution_count": null,
   "metadata": {},
   "outputs": [],
   "source": []
  },
  {
   "cell_type": "markdown",
   "metadata": {},
   "source": [
    "**取出字符串'短苦生人'**"
   ]
  },
  {
   "cell_type": "code",
   "execution_count": 31,
   "metadata": {},
   "outputs": [
    {
     "data": {
      "text/plain": [
       "'人生苦短,我用python'"
      ]
     },
     "execution_count": 31,
     "metadata": {},
     "output_type": "execute_result"
    }
   ],
   "source": [
    "s"
   ]
  },
  {
   "cell_type": "code",
   "execution_count": null,
   "metadata": {},
   "outputs": [],
   "source": []
  },
  {
   "cell_type": "markdown",
   "metadata": {},
   "source": [
    "**取出字符串'nohtyp用我'**"
   ]
  },
  {
   "cell_type": "code",
   "execution_count": 32,
   "metadata": {},
   "outputs": [
    {
     "data": {
      "text/plain": [
       "'人生苦短,我用python'"
      ]
     },
     "execution_count": 32,
     "metadata": {},
     "output_type": "execute_result"
    }
   ],
   "source": [
    "s"
   ]
  },
  {
   "cell_type": "code",
   "execution_count": null,
   "metadata": {},
   "outputs": [],
   "source": []
  },
  {
   "cell_type": "markdown",
   "metadata": {},
   "source": [
    "..................."
   ]
  },
  {
   "cell_type": "markdown",
   "metadata": {},
   "source": [
    "### 练习"
   ]
  },
  {
   "cell_type": "markdown",
   "metadata": {},
   "source": [
    "&ensp; \n",
    "&ensp;\n",
    "<font color=#00008B size=3 face=\"黑体\">\n",
    "**（1）第一题**  \n",
    "<font color=#000000 size=2.8 face=\"宋体\">\n",
    "给定一个字符串aStr, 请反转字符串  \n",
    "aStr = \"abcdefg\" "
   ]
  },
  {
   "cell_type": "code",
   "execution_count": null,
   "metadata": {},
   "outputs": [],
   "source": []
  },
  {
   "cell_type": "code",
   "execution_count": null,
   "metadata": {},
   "outputs": [],
   "source": []
  },
  {
   "cell_type": "markdown",
   "metadata": {},
   "source": [
    "&ensp; \n",
    "&ensp;\n",
    "<font color=#00008B size=3 face=\"黑体\">\n",
    "**（2）第二题**   \n"
   ]
  },
  {
   "cell_type": "markdown",
   "metadata": {},
   "source": [
    "b = \"绍兴E网_E网论坛_绍兴房产汽车装修亲子培训生活网\"\n",
    "#取出 'E网论坛', '子亲修装'"
   ]
  },
  {
   "cell_type": "code",
   "execution_count": null,
   "metadata": {},
   "outputs": [],
   "source": []
  },
  {
   "cell_type": "code",
   "execution_count": null,
   "metadata": {},
   "outputs": [],
   "source": []
  },
  {
   "cell_type": "markdown",
   "metadata": {},
   "source": [
    "## 字符串对象的常用方法"
   ]
  },
  {
   "cell_type": "markdown",
   "metadata": {},
   "source": [
    "### 3个检索的方法"
   ]
  },
  {
   "attachments": {
    "image.png": {
     "image/png": "[encoded data removed]"
    }
   },
   "cell_type": "markdown",
   "metadata": {},
   "source": [
    "![image.png](attachment:image.png)"
   ]
  },
  {
   "cell_type": "markdown",
   "metadata": {},
   "source": [
    "&ensp; \n",
    "&ensp;\n",
    "<font color=#00008B size=4 face=\"黑体\">\n",
    "**（1）count()方法**"
   ]
  },
  {
   "cell_type": "markdown",
   "metadata": {},
   "source": [
    "<font color=#00008B size=3 face=\"黑体\"> \n",
    "**语法：   \n",
    "&emsp;&emsp;&emsp;&emsp;字符串.count(要计数的对象, 开始索引值,结束索引值)**    \n",
    "<font color=#000000 size=3 face=\"黑体\">   \n",
    "返回的是：你寻找的对象，在字符串里面出现的次数，比如："
   ]
  },
  {
   "cell_type": "code",
   "execution_count": 33,
   "metadata": {},
   "outputs": [
    {
     "data": {
      "text/plain": [
       "2"
      ]
     },
     "execution_count": 33,
     "metadata": {},
     "output_type": "execute_result"
    }
   ],
   "source": [
    "a = '我爱北京天安门，天安门上太阳升'\n",
    "a.count(\"天安门\")   # 把天安门当做一个整体进行计数"
   ]
  },
  {
   "cell_type": "code",
   "execution_count": 34,
   "metadata": {},
   "outputs": [
    {
     "data": {
      "text/plain": [
       "1"
      ]
     },
     "execution_count": 34,
     "metadata": {},
     "output_type": "execute_result"
    }
   ],
   "source": [
    "a.count('天安门',0,10)   #在[0:10)这个片段上对‘天安门’进行计数"
   ]
  },
  {
   "cell_type": "code",
   "execution_count": 35,
   "metadata": {},
   "outputs": [
    {
     "data": {
      "text/plain": [
       "2"
      ]
     },
     "execution_count": 35,
     "metadata": {},
     "output_type": "execute_result"
    }
   ],
   "source": [
    "a.count('天安门',0,11)   ##在[0:11)这个片段上对‘天安门’进行计数"
   ]
  },
  {
   "cell_type": "markdown",
   "metadata": {},
   "source": [
    "**练习： 请大家统计这篇《离骚》 里面，有多少个‘兮’？**\n",
    "\n",
    "长太息以掩涕兮，哀民生之多艰。\n",
    "\n",
    "余虽好修姱以鞿羁兮，謇朝谇而夕替。\n",
    "\n",
    "既替余以蕙纕兮，又申之以揽茝。\n",
    "\n",
    "亦余心之所善兮，虽九死其犹未悔。\n",
    "\n",
    "怨灵修之浩荡兮，终不察夫民心。\n",
    "\n",
    "众女嫉余之蛾眉兮，谣诼谓余以善淫。\n",
    "\n",
    "固时俗之工巧兮，偭规矩而改错。\n",
    "\n",
    "背绳墨以追曲兮，竞周容以为度。\n",
    "\n",
    "忳郁邑余佗傺兮，吾独穷困乎此时也。\n",
    "\n",
    "宁溘死以流亡兮，余不忍为此态也。\n",
    "\n",
    "鸷鸟之不群兮，自前世而固然。\n",
    "\n",
    "何方圜之能周兮，夫孰异道而相安？\n",
    "\n",
    "屈心而抑志兮，忍尤而攘诟。\n",
    "\n",
    "伏清白以死直兮，固前圣之所厚。\n",
    "\n",
    "悔相道之不察兮，延伫乎吾将反。\n",
    "\n",
    "回朕车以复路兮，及行迷之未远。\n",
    "\n",
    "步余马於兰皋兮，驰椒丘且焉止息。\n",
    "\n",
    "进不入以离尤兮，退将复修吾初服。\n",
    "\n",
    "制芰荷以为衣兮，集芙蓉以为裳。\n",
    "\n",
    "不吾知其亦已兮，苟余情其信芳。\n",
    "\n",
    "高余冠之岌岌兮，长余佩之陆离。\n",
    "\n",
    "芳与泽其杂糅兮，唯昭质其犹未亏。\n",
    "\n",
    "忽反顾以游目兮，将往观乎四荒。\n",
    "\n",
    "佩缤纷其繁饰兮，芳菲菲其弥章。\n",
    "\n",
    "民生各有所乐兮，余独好修以为常。\n",
    "\n",
    "虽体解吾犹未变兮，岂余心之可惩。"
   ]
  },
  {
   "cell_type": "code",
   "execution_count": 36,
   "metadata": {},
   "outputs": [],
   "source": [
    "s = '''\n",
    "长太息以掩涕兮，哀民生之多艰。\n",
    "\n",
    "余虽好修姱以鞿羁兮，謇朝谇而夕替。\n",
    "\n",
    "既替余以蕙纕兮，又申之以揽茝。\n",
    "\n",
    "亦余心之所善兮，虽九死其犹未悔。\n",
    "\n",
    "怨灵修之浩荡兮，终不察夫民心。\n",
    "\n",
    "众女嫉余之蛾眉兮，谣诼谓余以善淫。\n",
    "\n",
    "固时俗之工巧兮，偭规矩而改错。\n",
    "\n",
    "背绳墨以追曲兮，竞周容以为度。\n",
    "\n",
    "忳郁邑余佗傺兮，吾独穷困乎此时也。\n",
    "\n",
    "宁溘死以流亡兮，余不忍为此态也。\n",
    "\n",
    "鸷鸟之不群兮，自前世而固然。\n",
    "\n",
    "何方圜之能周兮，夫孰异道而相安？\n",
    "\n",
    "屈心而抑志兮，忍尤而攘诟。\n",
    "\n",
    "伏清白以死直兮，固前圣之所厚。\n",
    "\n",
    "悔相道之不察兮，延伫乎吾将反。\n",
    "\n",
    "回朕车以复路兮，及行迷之未远。\n",
    "\n",
    "步余马於兰皋兮，驰椒丘且焉止息。\n",
    "\n",
    "进不入以离尤兮，退将复修吾初服。\n",
    "\n",
    "制芰荷以为衣兮，集芙蓉以为裳。\n",
    "\n",
    "不吾知其亦已兮，苟余情其信芳。\n",
    "\n",
    "高余冠之岌岌兮，长余佩之陆离。\n",
    "\n",
    "芳与泽其杂糅兮，唯昭质其犹未亏。\n",
    "\n",
    "忽反顾以游目兮，将往观乎四荒。\n",
    "\n",
    "佩缤纷其繁饰兮，芳菲菲其弥章。\n",
    "\n",
    "民生各有所乐兮，余独好修以为常。\n",
    "\n",
    "虽体解吾犹未变兮，岂余心之可惩。\n",
    "\n",
    "'''\n"
   ]
  },
  {
   "cell_type": "code",
   "execution_count": 37,
   "metadata": {},
   "outputs": [],
   "source": [
    "                          # 有兴趣的大家可以数数有多少个"
   ]
  },
  {
   "cell_type": "markdown",
   "metadata": {},
   "source": [
    "&ensp; \n",
    "\n",
    "&ensp;\n",
    "<font color=#00008B size=4 face=\"黑体\">\n",
    "**（2）find()方法**"
   ]
  },
  {
   "cell_type": "markdown",
   "metadata": {},
   "source": [
    "<font color=#00008B size=3 face=\"黑体\"> \n",
    "**语法：   \n",
    "&emsp;&emsp;字符串.find(要查找的对象，开始位置,结束位置)**  \n",
    "<font color=#000000 size=3 face=\"黑体\">  \n",
    "- 如果对象包含在字符串内,则返回开始的索引值，否则返回-1　\n",
    "- rfind()返回的是最后一次出现的位置\n",
    "<font color=#DC143C size=3 face=\"黑体\">  \n",
    "**注意：find()返回的是索！引！值！**"
   ]
  },
  {
   "cell_type": "code",
   "execution_count": 38,
   "metadata": {},
   "outputs": [
    {
     "data": {
      "text/plain": [
       "1"
      ]
     },
     "execution_count": 38,
     "metadata": {},
     "output_type": "execute_result"
    }
   ],
   "source": [
    "a = \"这是一个查是找函数\"\n",
    "\n",
    "a.find('是')      #默认是第一次出现的索引位置"
   ]
  },
  {
   "cell_type": "code",
   "execution_count": 39,
   "metadata": {},
   "outputs": [
    {
     "data": {
      "text/plain": [
       "5"
      ]
     },
     "execution_count": 39,
     "metadata": {},
     "output_type": "execute_result"
    }
   ],
   "source": [
    "a.rfind('是')    #rfind()最后一次出现的索引位置"
   ]
  },
  {
   "cell_type": "code",
   "execution_count": 40,
   "metadata": {},
   "outputs": [
    {
     "data": {
      "text/plain": [
       "1"
      ]
     },
     "execution_count": 40,
     "metadata": {},
     "output_type": "execute_result"
    }
   ],
   "source": [
    "a.find('是', 0, 3)  # 相当于在[0:3)这个片段内查找，找得到就返回在原来字符串中的索引，找不到返回-1"
   ]
  },
  {
   "cell_type": "code",
   "execution_count": 41,
   "metadata": {},
   "outputs": [
    {
     "data": {
      "text/plain": [
       "-1"
      ]
     },
     "execution_count": 41,
     "metadata": {},
     "output_type": "execute_result"
    }
   ],
   "source": [
    "a.find('是', 0,1)  #[0:1)内找不到，返回-1"
   ]
  },
  {
   "cell_type": "code",
   "execution_count": 42,
   "metadata": {},
   "outputs": [
    {
     "data": {
      "text/plain": [
       "5"
      ]
     },
     "execution_count": 42,
     "metadata": {},
     "output_type": "execute_result"
    }
   ],
   "source": [
    "a.find('是', 3, 7)"
   ]
  },
  {
   "cell_type": "code",
   "execution_count": 43,
   "metadata": {},
   "outputs": [
    {
     "data": {
      "text/plain": [
       "-1"
      ]
     },
     "execution_count": 43,
     "metadata": {},
     "output_type": "execute_result"
    }
   ],
   "source": [
    "a.find('我')   # 找不到，则返回-1"
   ]
  },
  {
   "cell_type": "markdown",
   "metadata": {},
   "source": [
    "当查找的是一个片段的时候"
   ]
  },
  {
   "cell_type": "code",
   "execution_count": 44,
   "metadata": {},
   "outputs": [
    {
     "data": {
      "text/plain": [
       "'这是一个查是找函数'"
      ]
     },
     "execution_count": 44,
     "metadata": {},
     "output_type": "execute_result"
    }
   ],
   "source": [
    "a"
   ]
  },
  {
   "cell_type": "code",
   "execution_count": 45,
   "metadata": {},
   "outputs": [
    {
     "data": {
      "text/plain": [
       "2"
      ]
     },
     "execution_count": 45,
     "metadata": {},
     "output_type": "execute_result"
    }
   ],
   "source": [
    "a.find('一个')  #如果存在则返回第一个字符的索引，即‘一’的索引"
   ]
  },
  {
   "cell_type": "code",
   "execution_count": 46,
   "metadata": {},
   "outputs": [
    {
     "data": {
      "text/plain": [
       "-1"
      ]
     },
     "execution_count": 46,
     "metadata": {},
     "output_type": "execute_result"
    }
   ],
   "source": [
    "a.find('一个', 3, 6)  #找不到返回-1"
   ]
  },
  {
   "cell_type": "markdown",
   "metadata": {},
   "source": [
    "**练习：请大家在下面这些文字中找到这个字  \"姬\"  （ji）**"
   ]
  },
  {
   "cell_type": "markdown",
   "metadata": {},
   "source": [
    "**姫姫姫姫姫姫姫姫姫姫姫姫姫姫姫姫姫姫姫姬姫姫姫姫姫姫姫姫姫姫姫姫姫姫姫姫姫姫姫姫姫姫姫姫姫姫姫姫姫姫姫姫姫姫姫**"
   ]
  },
  {
   "attachments": {
    "image.png": {
     "image/png": "[encoded data removed]"
    }
   },
   "cell_type": "markdown",
   "metadata": {},
   "source": [
    "![image.png](attachment:image.png)"
   ]
  },
  {
   "cell_type": "code",
   "execution_count": 47,
   "metadata": {},
   "outputs": [],
   "source": [
    "s = \"姫姫姫姫姫姫姫姫姫姫姫姫姫姫姫姫姫姫姫姬姫姫姫姫姫姫姫姫姫姫姫姫姫姫姫姫姫姫姫姫姫姫姫姫姫姫姫姫姫姫姫姫姫姫姫\""
   ]
  },
  {
   "cell_type": "code",
   "execution_count": null,
   "metadata": {},
   "outputs": [],
   "source": []
  },
  {
   "cell_type": "code",
   "execution_count": null,
   "metadata": {},
   "outputs": [],
   "source": []
  },
  {
   "cell_type": "code",
   "execution_count": null,
   "metadata": {},
   "outputs": [],
   "source": []
  },
  {
   "cell_type": "markdown",
   "metadata": {},
   "source": [
    "&ensp; \n",
    "\n",
    "&ensp;\n",
    "<font color=#00008B size=4 face=\"黑体\">\n",
    "**（3）index()方法**"
   ]
  },
  {
   "cell_type": "markdown",
   "metadata": {},
   "source": [
    "<font color=#000000 size=3 face=\"黑体\">  \n",
    "- index()方法同find()方法基本一样，也是用于检索字符串类是否包含特定的对象，返回的也是索引值  \n",
    "- 只不过如果要检索的对象如果不存在于字符串内，不会像find()一样返回-1，<font color=#DC143C size=3 face=\"黑体\">而是直接报错  \n",
    "<font color=#000000 size=3 face=\"黑体\">\n",
    "- rindex()是最后一次出现的位置"
   ]
  },
  {
   "cell_type": "code",
   "execution_count": 48,
   "metadata": {},
   "outputs": [
    {
     "data": {
      "text/plain": [
       "1"
      ]
     },
     "execution_count": 48,
     "metadata": {},
     "output_type": "execute_result"
    }
   ],
   "source": [
    "a = \"这是一个查找函数,哦，是吗？\"\n",
    "\n",
    "a.index('是')    # 默认返回第一次出现的位置"
   ]
  },
  {
   "cell_type": "code",
   "execution_count": 49,
   "metadata": {},
   "outputs": [
    {
     "data": {
      "text/plain": [
       "11"
      ]
     },
     "execution_count": 49,
     "metadata": {},
     "output_type": "execute_result"
    }
   ],
   "source": [
    "a.rindex(\"是\") # 返回最后一次出现的索引值"
   ]
  },
  {
   "cell_type": "code",
   "execution_count": 50,
   "metadata": {},
   "outputs": [
    {
     "ename": "ValueError",
     "evalue": "substring not found",
     "output_type": "error",
     "traceback": [
      "\u001b[1;31m---------------------------------------------------------------------------\u001b[0m",
      "\u001b[1;31mValueError\u001b[0m                                Traceback (most recent call last)",
      "\u001b[1;32m<ipython-input-50-4ba59308d944>\u001b[0m in \u001b[0;36m<module>\u001b[1;34m\u001b[0m\n\u001b[0;32m      1\u001b[0m \u001b[0ma\u001b[0m \u001b[1;33m=\u001b[0m \u001b[1;34m\"这是一个查找函数,哦，是吗？\"\u001b[0m\u001b[1;33m\u001b[0m\u001b[1;33m\u001b[0m\u001b[0m\n\u001b[0;32m      2\u001b[0m \u001b[1;33m\u001b[0m\u001b[0m\n\u001b[1;32m----> 3\u001b[1;33m \u001b[0ma\u001b[0m\u001b[1;33m.\u001b[0m\u001b[0mindex\u001b[0m\u001b[1;33m(\u001b[0m\u001b[1;34m'是'\u001b[0m\u001b[1;33m,\u001b[0m\u001b[1;36m2\u001b[0m\u001b[1;33m,\u001b[0m\u001b[1;36m5\u001b[0m\u001b[1;33m)\u001b[0m         \u001b[1;31m#  找不到直接报错\u001b[0m\u001b[1;33m\u001b[0m\u001b[1;33m\u001b[0m\u001b[0m\n\u001b[0m",
      "\u001b[1;31mValueError\u001b[0m: substring not found"
     ]
    }
   ],
   "source": [
    "a = \"这是一个查找函数,哦，是吗？\"\n",
    "\n",
    "a.index('是',2,5)         #  找不到直接报错"
   ]
  },
  {
   "cell_type": "markdown",
   "metadata": {},
   "source": [
    "**练习:  请从下面的内容中切片出‘此情可待成追忆，只是当时已惘然。'**\n",
    "```python\n",
    "《锦瑟》  \n",
    "作者：李商隐    \n",
    "锦瑟无端五十弦，一弦一柱思华年。  \n",
    "庄生晓梦迷蝴蝶，望帝春心托杜鹃。  \n",
    "沧海月明珠有泪，蓝田日暖玉生烟。  \n",
    "此情可待成追忆，只是当时已惘然。\n",
    "```"
   ]
  },
  {
   "cell_type": "code",
   "execution_count": 51,
   "metadata": {},
   "outputs": [],
   "source": [
    "s = '''\n",
    "《锦瑟》  \n",
    "作者：李商隐    \n",
    "锦瑟无端五十弦，一弦一柱思华年。  \n",
    "庄生晓梦迷蝴蝶，望帝春心托杜鹃。  \n",
    "沧海月明珠有泪，蓝田日暖玉生烟。  \n",
    "此情可待成追忆，只是当时已惘然。\n",
    "'''"
   ]
  },
  {
   "cell_type": "code",
   "execution_count": 52,
   "metadata": {},
   "outputs": [
    {
     "name": "stdout",
     "output_type": "stream",
     "text": [
      "\n",
      "《锦瑟》  \n",
      "作者：李商隐    \n",
      "锦瑟无端五十弦，一弦一柱思华年。  \n",
      "庄生晓梦迷蝴蝶，望帝春心托杜鹃。  \n",
      "沧海月明珠有泪，蓝田日暖玉生烟。  \n",
      "此情可待成追忆，只是当时已惘然。\n",
      "\n"
     ]
    }
   ],
   "source": [
    "print(s)"
   ]
  },
  {
   "cell_type": "code",
   "execution_count": null,
   "metadata": {},
   "outputs": [],
   "source": []
  },
  {
   "cell_type": "markdown",
   "metadata": {},
   "source": [
    "### 3个分割的方法"
   ]
  },
  {
   "attachments": {
    "image.png": {
     "image/png": "[encoded data removed]"
    }
   },
   "cell_type": "markdown",
   "metadata": {},
   "source": [
    "![image.png](attachment:image.png)"
   ]
  },
  {
   "cell_type": "markdown",
   "metadata": {},
   "source": [
    "&ensp; \n",
    "\n",
    "&ensp;\n",
    "<font color=#00008B size=4 face=\"黑体\">\n",
    "**（1）语法：  \n",
    "    &emsp;&emsp;&emsp;&emsp;&emsp;&emsp;字符串.split(\"分割符\",分割次数)**"
   ]
  },
  {
   "cell_type": "code",
   "execution_count": 53,
   "metadata": {},
   "outputs": [
    {
     "data": {
      "text/plain": [
       "'hello world'"
      ]
     },
     "execution_count": 53,
     "metadata": {},
     "output_type": "execute_result"
    }
   ],
   "source": [
    "s = 'hello world'\n",
    "s"
   ]
  },
  {
   "cell_type": "code",
   "execution_count": 54,
   "metadata": {},
   "outputs": [
    {
     "data": {
      "text/plain": [
       "['hello', 'world']"
      ]
     },
     "execution_count": 54,
     "metadata": {},
     "output_type": "execute_result"
    }
   ],
   "source": [
    "s.split()   # 返回的是一个列表，这里默认是空格分割"
   ]
  },
  {
   "cell_type": "code",
   "execution_count": 55,
   "metadata": {},
   "outputs": [
    {
     "data": {
      "text/plain": [
       "['hello', 'wo', 'rld']"
      ]
     },
     "execution_count": 55,
     "metadata": {},
     "output_type": "execute_result"
    }
   ],
   "source": [
    "s = \"hello wo\\trld\"\n",
    "s.split()   #默认以特殊字符分割，空格 \\n \\t 等"
   ]
  },
  {
   "cell_type": "code",
   "execution_count": 56,
   "metadata": {},
   "outputs": [
    {
     "data": {
      "text/plain": [
       "['123', '254', '354534', '4646']"
      ]
     },
     "execution_count": 56,
     "metadata": {},
     "output_type": "execute_result"
    }
   ],
   "source": [
    "str_01 = \"123哈254哈354534哈4646\"\n",
    "\n",
    "str_01.split(\"哈\")    # 指定分隔符，默认全部分割"
   ]
  },
  {
   "cell_type": "code",
   "execution_count": 57,
   "metadata": {},
   "outputs": [
    {
     "data": {
      "text/plain": [
       "['123', '254', '354534哈4646']"
      ]
     },
     "execution_count": 57,
     "metadata": {},
     "output_type": "execute_result"
    }
   ],
   "source": [
    "str_02 = \"123哈254哈354534哈4646\"\n",
    "str_02.split(\"哈\",2)    #可以传入参数去限制分割几次"
   ]
  },
  {
   "cell_type": "markdown",
   "metadata": {},
   "source": [
    "&ensp;\n",
    "&emsp;  \n",
    "**如果想从右边开始分隔（还是加个“r”）：**"
   ]
  },
  {
   "cell_type": "code",
   "execution_count": 58,
   "metadata": {},
   "outputs": [
    {
     "data": {
      "text/plain": [
       "['123哈254', '354534', '4646']"
      ]
     },
     "execution_count": 58,
     "metadata": {},
     "output_type": "execute_result"
    }
   ],
   "source": [
    "str_03 = \"123哈254哈354534哈4646\"\n",
    "str_03.rsplit(\"哈\",2)    #可以传入参数去限制分割几次"
   ]
  },
  {
   "cell_type": "markdown",
   "metadata": {},
   "source": [
    "**练习：取出下列字符串当中的人名**"
   ]
  },
  {
   "cell_type": "markdown",
   "metadata": {},
   "source": [
    "郭靖.jpg  \n",
    "张无忌.jpg  \n",
    "杨过.jpg  \n",
    "如来佛祖.jpg  \n",
    "观世音菩萨.jpg"
   ]
  },
  {
   "cell_type": "code",
   "execution_count": 59,
   "metadata": {},
   "outputs": [],
   "source": [
    "s = '郭靖.jpg张无忌.jpg杨过.jpg如来佛祖.jpg观世音菩萨.jpg'"
   ]
  },
  {
   "cell_type": "code",
   "execution_count": null,
   "metadata": {},
   "outputs": [],
   "source": []
  },
  {
   "cell_type": "code",
   "execution_count": null,
   "metadata": {},
   "outputs": [],
   "source": []
  },
  {
   "cell_type": "markdown",
   "metadata": {},
   "source": [
    "&ensp; \n",
    "\n",
    " \n",
    "&ensp;\n",
    "<font color=#00008B size=4 face=\"黑体\">\n",
    "**（2）语法：  \n",
    "&emsp;&emsp;&emsp;&emsp;&emsp;&emsp;字符串.splitlines(True或False)**  \n",
    "<font color=#000000 size=2.5 face=\"黑体\">\n",
    "按照行分隔，返回一个包含各行作为元素的列表。\n",
    "- 字符串.splitlines()按照行('\\r', '\\r\\n', \\n')分隔，返回一个包含各行作为元素的列表。\n",
    "- 如果参数 keepends 为 False，不包含换行符，如果为 True，则保留换行符。"
   ]
  },
  {
   "cell_type": "code",
   "execution_count": 60,
   "metadata": {},
   "outputs": [
    {
     "data": {
      "text/plain": [
       "['关于你',\n",
       " '我有太多东西关于你',\n",
       " '清醒的时候放不下矜持',\n",
       " '不敢说我喜欢你',\n",
       " '只有在某个夜晚多愁善感又萦绕在心头',\n",
       " '或是朋友聚会上的大醉',\n",
       " '才敢借着情绪说',\n",
       " '我喜欢你',\n",
       " '喜欢了好久好久']"
      ]
     },
     "execution_count": 60,
     "metadata": {},
     "output_type": "execute_result"
    }
   ],
   "source": [
    "a=\"关于你\\r我有太多东西关于你\\r\\n清醒的时候放不下矜持\\n不敢说我喜欢你\\n只有在某个夜晚多愁善感又萦绕在心头\\n或是朋友聚会上的大醉\\n才敢借着情绪说\\n我喜欢你\\n喜欢了好久好久\"\n",
    "\n",
    "b=a.splitlines()  #括号里面默认填False，效果一样，不显示换行符\n",
    "\n",
    "b"
   ]
  },
  {
   "cell_type": "markdown",
   "metadata": {},
   "source": [
    "现在，大家都能理解str.splitlines()的作用了，如果在括号里面添加参数True，会将这些分隔符显示出来。"
   ]
  },
  {
   "cell_type": "code",
   "execution_count": 61,
   "metadata": {},
   "outputs": [
    {
     "data": {
      "text/plain": [
       "['关于你\\r',\n",
       " '我有太多东西关于你\\r\\n',\n",
       " '清醒的时候放不下矜持\\n',\n",
       " '不敢说我喜欢你\\n',\n",
       " '只有在某个夜晚多愁善感又萦绕在心头\\n',\n",
       " '或是朋友聚会上的大醉\\n',\n",
       " '才敢借着情绪说\\n',\n",
       " '我喜欢你\\n',\n",
       " '喜欢了好久好久']"
      ]
     },
     "execution_count": 61,
     "metadata": {},
     "output_type": "execute_result"
    }
   ],
   "source": [
    "a=\"关于你\\r我有太多东西关于你\\r\\n清醒的时候放不下矜持\\n不敢说我喜欢你\\n只有在某个夜晚多愁善感又萦绕在心头\\n或是朋友聚会上的大醉\\n才敢借着情绪说\\n我喜欢你\\n喜欢了好久好久\"\n",
    "\n",
    "b=a.splitlines(keepends=True)\n",
    "\n",
    "b"
   ]
  },
  {
   "cell_type": "markdown",
   "metadata": {},
   "source": [
    "**练习：利用splitlines()分割下面的字符串**"
   ]
  },
  {
   "cell_type": "markdown",
   "metadata": {},
   "source": [
    "'当枯萎的落叶灾难般的落下，当瓢泼的大雨坠毁般的浸淋。\\n在漫长的黑夜破晓之前，在无数次期待破灭之后。\\n用无尽的伤痛串联成线，用无边的热情抽丝剥茧。\\n以蝉蛹的坚韧默默倒数，以勇者的誓言蒸腾泪水。\\n梦想，可大可小可远可近可笑可赞叹。\\n愿在执着勇敢之岁月，见它光芒万道，见它终成现实。\\n'"
   ]
  },
  {
   "cell_type": "code",
   "execution_count": 62,
   "metadata": {},
   "outputs": [],
   "source": [
    "s = '当枯萎的落叶灾难般的落下，当瓢泼的大雨坠毁般的浸淋。\\n在漫长的黑夜破晓之前，在无数次期待破灭之后。\\n用无尽的伤痛串联成线，用无边的热情抽丝剥茧。\\n以蝉蛹的坚韧默默倒数，以勇者的誓言蒸腾泪水。\\n梦想，可大可小可远可近可笑可赞叹。\\n愿在执着勇敢之岁月，见它光芒万道，见它终成现实。\\n'"
   ]
  },
  {
   "cell_type": "code",
   "execution_count": null,
   "metadata": {},
   "outputs": [],
   "source": []
  },
  {
   "cell_type": "code",
   "execution_count": null,
   "metadata": {},
   "outputs": [],
   "source": []
  },
  {
   "cell_type": "markdown",
   "metadata": {},
   "source": [
    "&ensp; \n",
    "\n",
    " \n",
    "&ensp;\n",
    "<font color=#00008B size=4 face=\"黑体\">\n",
    "**（3）语法：  \n",
    "    &emsp;&emsp;&emsp;&emsp;&emsp;&emsp;字符串.partition(分隔符)**  \n",
    "<font color=#000000 size=2.5 face=\"黑体\">\n",
    "\n",
    "把str以分隔符为标准，分割成三部分,str前，str和str后"
   ]
  },
  {
   "cell_type": "code",
   "execution_count": 63,
   "metadata": {},
   "outputs": [
    {
     "data": {
      "text/plain": [
       "['abcd', 'fgabcd', '123']"
      ]
     },
     "execution_count": 63,
     "metadata": {},
     "output_type": "execute_result"
    },
    {
     "data": {
      "text/plain": [
       "('abcd', '哈', 'fgabcd哈123')"
      ]
     },
     "execution_count": 63,
     "metadata": {},
     "output_type": "execute_result"
    }
   ],
   "source": [
    "a = 'abcd哈fgabcd哈123'\n",
    "\n",
    "a.split('哈')    # 返回的是列表\n",
    "\n",
    "a.partition('哈')   # 默认是第一个分割，分成三部分，返回的是元组"
   ]
  },
  {
   "cell_type": "markdown",
   "metadata": {},
   "source": [
    "如果想从右边开始分割（还是加个“r”）："
   ]
  },
  {
   "cell_type": "code",
   "execution_count": 64,
   "metadata": {},
   "outputs": [
    {
     "data": {
      "text/plain": [
       "('abcd哈fgabcd', '哈', '123')"
      ]
     },
     "execution_count": 64,
     "metadata": {},
     "output_type": "execute_result"
    }
   ],
   "source": [
    "'abcd哈fgabcd哈123'.rpartition('哈')"
   ]
  },
  {
   "cell_type": "code",
   "execution_count": null,
   "metadata": {},
   "outputs": [],
   "source": []
  },
  {
   "cell_type": "markdown",
   "metadata": {},
   "source": [
    "### 1个合并的方法"
   ]
  },
  {
   "cell_type": "markdown",
   "metadata": {},
   "source": [
    "&ensp; \n",
    "\n",
    " \n",
    "&ensp;\n",
    "<font color=#00008B size=4 face=\"黑体\">\n",
    "**（1）语法：  \n",
    "    &emsp;&emsp;&emsp;&emsp;&emsp;&emsp;字符串.join(这里是一个包含字符串的序列)**  \n",
    "<font color=#000000 size=2.5 face=\"黑体\">\n",
    "\n"
   ]
  },
  {
   "cell_type": "code",
   "execution_count": 65,
   "metadata": {},
   "outputs": [
    {
     "data": {
      "text/plain": [
       "'a-->b-->c-->d'"
      ]
     },
     "execution_count": 65,
     "metadata": {},
     "output_type": "execute_result"
    }
   ],
   "source": [
    "'-->'.join('abcd')"
   ]
  },
  {
   "cell_type": "code",
   "execution_count": 66,
   "metadata": {},
   "outputs": [
    {
     "data": {
      "text/plain": [
       "'中==>山==>大==>学==>不==>在==>中==>山'"
      ]
     },
     "execution_count": 66,
     "metadata": {},
     "output_type": "execute_result"
    }
   ],
   "source": [
    "\"==>\".join(\"中山大学不在中山\")"
   ]
  },
  {
   "cell_type": "markdown",
   "metadata": {},
   "source": [
    "**面试易考点：（先了解）**  \n",
    "如何利用字符串 'Life is short I use python'  \n",
    "输出 ：'python use I short is Life'"
   ]
  },
  {
   "cell_type": "code",
   "execution_count": 67,
   "metadata": {},
   "outputs": [],
   "source": [
    "s =  'Life is short I use python'"
   ]
  },
  {
   "cell_type": "code",
   "execution_count": null,
   "metadata": {},
   "outputs": [],
   "source": []
  },
  {
   "cell_type": "code",
   "execution_count": null,
   "metadata": {},
   "outputs": [],
   "source": []
  },
  {
   "cell_type": "code",
   "execution_count": null,
   "metadata": {},
   "outputs": [],
   "source": []
  },
  {
   "cell_type": "code",
   "execution_count": null,
   "metadata": {},
   "outputs": [],
   "source": []
  },
  {
   "cell_type": "markdown",
   "metadata": {},
   "source": [
    "### 1个替换的方法"
   ]
  },
  {
   "cell_type": "markdown",
   "metadata": {},
   "source": [
    "<font color=#00008B size=4 face=\"黑体\">  \n",
    "**（1）replace()  \n",
    "&emsp;&emsp;&emsp;字符串.replace(被替换的字符, 用来替换的字符, 替换次数)  \n",
    "    字符串是不可变数据类型，这里的所有操作返回都是新的字符串对象，原来的字符串都是没有发生变化的**  "
   ]
  },
  {
   "cell_type": "markdown",
   "metadata": {},
   "source": [
    "- 如果想要去除字符串里面某个字符，可以用replace()方法。\n",
    "- 用来替换的字符参数为空字符即可"
   ]
  },
  {
   "cell_type": "code",
   "execution_count": 68,
   "metadata": {},
   "outputs": [
    {
     "data": {
      "text/plain": [
       "'我爱北京天安门，天安门上太阳升'"
      ]
     },
     "execution_count": 68,
     "metadata": {},
     "output_type": "execute_result"
    }
   ],
   "source": [
    "s = \"我爱北京天安门，天安门上太阳升\"\n",
    "s"
   ]
  },
  {
   "cell_type": "code",
   "execution_count": 69,
   "metadata": {},
   "outputs": [
    {
     "data": {
      "text/plain": [
       "'我爱北京故宫，故宫上太阳升'"
      ]
     },
     "execution_count": 69,
     "metadata": {},
     "output_type": "execute_result"
    }
   ],
   "source": [
    "s.replace('天安门', '故宫')   #默认全部替换"
   ]
  },
  {
   "cell_type": "code",
   "execution_count": 70,
   "metadata": {},
   "outputs": [
    {
     "data": {
      "text/plain": [
       "'我爱北京天安门，天安门上太阳升'"
      ]
     },
     "execution_count": 70,
     "metadata": {},
     "output_type": "execute_result"
    }
   ],
   "source": [
    "s"
   ]
  },
  {
   "cell_type": "code",
   "execution_count": 71,
   "metadata": {},
   "outputs": [
    {
     "data": {
      "text/plain": [
       "'我爱北京故宫，天安门上太阳升'"
      ]
     },
     "execution_count": 71,
     "metadata": {},
     "output_type": "execute_result"
    }
   ],
   "source": [
    "\"我爱北京天安门，天安门上太阳升\".replace('天安门', '故宫',1)  #替换一次"
   ]
  },
  {
   "cell_type": "markdown",
   "metadata": {},
   "source": [
    "**可以利用这种方法删除字符串里的某些字符**"
   ]
  },
  {
   "cell_type": "code",
   "execution_count": 72,
   "metadata": {},
   "outputs": [
    {
     "data": {
      "text/plain": [
       "'我爱天安门，天安门上太阳升'"
      ]
     },
     "execution_count": 72,
     "metadata": {},
     "output_type": "execute_result"
    }
   ],
   "source": [
    "\"我爱北京天安门，天安门上太阳升\".replace('北京','')  #用空字符串来替换即可"
   ]
  },
  {
   "cell_type": "code",
   "execution_count": 73,
   "metadata": {},
   "outputs": [
    {
     "data": {
      "text/plain": [
       "'我爱北京天安门，天安门上太阳升'"
      ]
     },
     "execution_count": 73,
     "metadata": {},
     "output_type": "execute_result"
    }
   ],
   "source": [
    "s   #字符串是不可变数据类型，所有的操作都返回新的字符串对象"
   ]
  },
  {
   "cell_type": "code",
   "execution_count": null,
   "metadata": {},
   "outputs": [],
   "source": []
  },
  {
   "cell_type": "markdown",
   "metadata": {},
   "source": [
    "**练习：如何使用replace()把--'hello world' =====》》变成 'helAo world'**"
   ]
  },
  {
   "cell_type": "code",
   "execution_count": 74,
   "metadata": {},
   "outputs": [
    {
     "data": {
      "text/plain": [
       "'hello world'"
      ]
     },
     "execution_count": 74,
     "metadata": {},
     "output_type": "execute_result"
    }
   ],
   "source": [
    "s = 'hello world'\n",
    "s"
   ]
  },
  {
   "cell_type": "code",
   "execution_count": null,
   "metadata": {},
   "outputs": [],
   "source": []
  },
  {
   "cell_type": "code",
   "execution_count": null,
   "metadata": {},
   "outputs": [],
   "source": []
  },
  {
   "cell_type": "markdown",
   "metadata": {},
   "source": [
    "### 1个中心化的方法"
   ]
  },
  {
   "cell_type": "markdown",
   "metadata": {},
   "source": [
    "**（1）语法：  \n",
    "    &emsp;&emsp;&emsp;&emsp;&emsp;&emsp;字符串.center(宽度， 填充的字符串)**  \n",
    "<font color=#000000 size=2.5 face=\"黑体\">"
   ]
  },
  {
   "cell_type": "code",
   "execution_count": 11,
   "metadata": {},
   "outputs": [
    {
     "data": {
      "text/plain": [
       "'python'"
      ]
     },
     "execution_count": 11,
     "metadata": {},
     "output_type": "execute_result"
    }
   ],
   "source": [
    "a = 'python'\n",
    "a"
   ]
  },
  {
   "cell_type": "code",
   "execution_count": 15,
   "metadata": {},
   "outputs": [
    {
     "data": {
      "text/plain": [
       "'**********************python*********************'"
      ]
     },
     "execution_count": 15,
     "metadata": {},
     "output_type": "execute_result"
    }
   ],
   "source": [
    "b = a.center(49, '*')\n",
    "b"
   ]
  },
  {
   "cell_type": "code",
   "execution_count": 16,
   "metadata": {},
   "outputs": [
    {
     "data": {
      "text/plain": [
       "49"
      ]
     },
     "execution_count": 16,
     "metadata": {},
     "output_type": "execute_result"
    }
   ],
   "source": [
    "len(b)"
   ]
  },
  {
   "cell_type": "code",
   "execution_count": null,
   "metadata": {},
   "outputs": [],
   "source": []
  },
  {
   "cell_type": "markdown",
   "metadata": {},
   "source": [
    "### 2个字符大小写转换方法"
   ]
  },
  {
   "cell_type": "markdown",
   "metadata": {},
   "source": [
    "&ensp;\n",
    "<font color=#00008B size=4 face=\"黑体\">\n",
    "**（1）str.lower()**  \n",
    "<font color=#000000 size=2 face=\"宋体\">\n",
    "**转换str 中所有大写字符为小写**  "
   ]
  },
  {
   "cell_type": "code",
   "execution_count": 75,
   "metadata": {},
   "outputs": [
    {
     "data": {
      "text/plain": [
       "'adfedifeiasf'"
      ]
     },
     "execution_count": 75,
     "metadata": {},
     "output_type": "execute_result"
    }
   ],
   "source": [
    "a = \"ADFEdifeiASF\"\n",
    "a.lower()  # 返回新的对象"
   ]
  },
  {
   "cell_type": "code",
   "execution_count": 76,
   "metadata": {},
   "outputs": [
    {
     "data": {
      "text/plain": [
       "'ADFEdifeiASF'"
      ]
     },
     "execution_count": 76,
     "metadata": {},
     "output_type": "execute_result"
    }
   ],
   "source": [
    "a"
   ]
  },
  {
   "cell_type": "markdown",
   "metadata": {},
   "source": [
    "&ensp;  \n",
    "<font color=#00008B size=4 face=\"黑体\">\n",
    "**（2）str.upper()**  \n",
    "<font color=#000000 size=2 face=\"宋体\">\n",
    "**转换 str 中的小写字母为大写** "
   ]
  },
  {
   "cell_type": "code",
   "execution_count": 77,
   "metadata": {},
   "outputs": [
    {
     "data": {
      "text/plain": [
       "'SDFSDFEFSF'"
      ]
     },
     "execution_count": 77,
     "metadata": {},
     "output_type": "execute_result"
    }
   ],
   "source": [
    "a ='sdfsdfefsf' \n",
    "a.upper()   #返回新的对象"
   ]
  },
  {
   "cell_type": "code",
   "execution_count": 78,
   "metadata": {},
   "outputs": [
    {
     "data": {
      "text/plain": [
       "'sdfsdfefsf'"
      ]
     },
     "execution_count": 78,
     "metadata": {},
     "output_type": "execute_result"
    }
   ],
   "source": [
    "a"
   ]
  },
  {
   "cell_type": "code",
   "execution_count": null,
   "metadata": {},
   "outputs": [],
   "source": []
  },
  {
   "cell_type": "markdown",
   "metadata": {},
   "source": [
    "### 3个去除两端特殊字符的方法"
   ]
  },
  {
   "cell_type": "markdown",
   "metadata": {},
   "source": [
    "&ensp; \n",
    "\n",
    " \n",
    "&ensp;\n",
    "<font color=#00008B size=4 face=\"黑体\">\n",
    "**(1）去除两边—— 字符串.strip(可以传入指定去除什么)**\n",
    "<font color=#000000 size=2 face=\"宋体\">\n",
    "- 删除str字符串两端的空白字符以及特殊字符\n",
    "- 这里的特殊字符包括制表符\\t、回车符\\r、换行符\\n"
   ]
  },
  {
   "cell_type": "code",
   "execution_count": 79,
   "metadata": {},
   "outputs": [
    {
     "data": {
      "text/plain": [
       "'   哈哈    '"
      ]
     },
     "execution_count": 79,
     "metadata": {},
     "output_type": "execute_result"
    },
    {
     "data": {
      "text/plain": [
       "'哈哈'"
      ]
     },
     "execution_count": 79,
     "metadata": {},
     "output_type": "execute_result"
    }
   ],
   "source": [
    "b = \"   哈哈    \"\n",
    "\n",
    "b\n",
    "\n",
    "b.strip()   # 默认去除空格"
   ]
  },
  {
   "cell_type": "code",
   "execution_count": 80,
   "metadata": {},
   "outputs": [
    {
     "data": {
      "text/plain": [
       "'\\t哈哈\\r\\n'"
      ]
     },
     "execution_count": 80,
     "metadata": {},
     "output_type": "execute_result"
    },
    {
     "data": {
      "text/plain": [
       "'哈哈'"
      ]
     },
     "execution_count": 80,
     "metadata": {},
     "output_type": "execute_result"
    }
   ],
   "source": [
    "b = \"\\t哈哈\\r\\n\"\n",
    "\n",
    "b\n",
    "\n",
    "b.strip()"
   ]
  },
  {
   "cell_type": "code",
   "execution_count": 81,
   "metadata": {},
   "outputs": [
    {
     "data": {
      "text/plain": [
       "'\\t哈哈哈哈---++哈哈'"
      ]
     },
     "execution_count": 81,
     "metadata": {},
     "output_type": "execute_result"
    },
    {
     "data": {
      "text/plain": [
       "'\\t哈哈哈哈---++'"
      ]
     },
     "execution_count": 81,
     "metadata": {},
     "output_type": "execute_result"
    }
   ],
   "source": [
    "b = \"\\t哈哈哈哈---++哈哈\"\n",
    "\n",
    "b\n",
    "\n",
    "b.strip('哈')   # 去除两端所有的‘哈’"
   ]
  },
  {
   "cell_type": "code",
   "execution_count": null,
   "metadata": {},
   "outputs": [],
   "source": []
  },
  {
   "cell_type": "markdown",
   "metadata": {},
   "source": [
    "&ensp; \n",
    "\n",
    " \n",
    "&ensp;\n",
    "<font color=#00008B size=4 face=\"黑体\">\n",
    "**(2）去除单边**\n",
    "<font color=#000000 size=3 face=\"黑体\">\n",
    "- 字符串.rstrip()——只去除右边的空格和特殊字符\n",
    "- 字符串.lstrip()——只去除左边的空格和特殊字符"
   ]
  },
  {
   "cell_type": "code",
   "execution_count": 82,
   "metadata": {},
   "outputs": [
    {
     "data": {
      "text/plain": [
       "'\\n哈哈'"
      ]
     },
     "execution_count": 82,
     "metadata": {},
     "output_type": "execute_result"
    }
   ],
   "source": [
    "a = '\\n哈哈\\t  '\n",
    "\n",
    "a.rstrip()"
   ]
  },
  {
   "cell_type": "code",
   "execution_count": 83,
   "metadata": {},
   "outputs": [
    {
     "data": {
      "text/plain": [
       "'\\n哈哈\\t  '"
      ]
     },
     "execution_count": 83,
     "metadata": {},
     "output_type": "execute_result"
    }
   ],
   "source": [
    "a = '\\n哈哈\\t  @'\n",
    "\n",
    "a.rstrip(\"@\")"
   ]
  },
  {
   "cell_type": "code",
   "execution_count": null,
   "metadata": {},
   "outputs": [],
   "source": []
  },
  {
   "cell_type": "markdown",
   "metadata": {},
   "source": [
    "### 字符串的格式化输出1方法"
   ]
  },
  {
   "cell_type": "markdown",
   "metadata": {},
   "source": [
    "&ensp; \n",
    "\n",
    " \n",
    "&ensp;\n",
    "<font color=#00008B size=4 face=\"黑体\">\n",
    "**(1）字符串.format()**\n",
    "<font color=#000000 size=3 face=\"黑体\">"
   ]
  },
  {
   "cell_type": "markdown",
   "metadata": {},
   "source": [
    "#### fromat()的普通形式"
   ]
  },
  {
   "cell_type": "code",
   "execution_count": 84,
   "metadata": {},
   "outputs": [
    {
     "name": "stdout",
     "output_type": "stream",
     "text": [
      "小哥哥的年龄是20岁!\n"
     ]
    }
   ],
   "source": [
    "print('{}的年龄是{}岁{}'.format('小哥哥', 20 ,'!'))  #{}什么都不填写就依次传入"
   ]
  },
  {
   "cell_type": "code",
   "execution_count": 85,
   "metadata": {},
   "outputs": [
    {
     "name": "stdout",
     "output_type": "stream",
     "text": [
      "!的年龄是小哥哥岁20\n"
     ]
    }
   ],
   "source": [
    "print('{2}的年龄是{0}岁{1}'.format('小哥哥', 20, '!')) #也在{}里面填入索引值"
   ]
  },
  {
   "cell_type": "code",
   "execution_count": 86,
   "metadata": {},
   "outputs": [
    {
     "name": "stdout",
     "output_type": "stream",
     "text": [
      "北京就是一个大城市的代表, 北京房价很贵, 北京是一个古城\n"
     ]
    }
   ],
   "source": [
    "print(\"{0}就是一个大城市{1}, {0}房价很贵, {0}是一个古城\".format(\"北京\",\"的代表\"))"
   ]
  },
  {
   "cell_type": "markdown",
   "metadata": {},
   "source": [
    "#### str.format( ) 接受参数形式"
   ]
  },
  {
   "cell_type": "code",
   "execution_count": 87,
   "metadata": {},
   "outputs": [
    {
     "data": {
      "text/plain": [
       "'小哥哥的年龄是20'"
      ]
     },
     "execution_count": 87,
     "metadata": {},
     "output_type": "execute_result"
    }
   ],
   "source": [
    "'{name}的年龄是{age}'.format(age=20,name='小哥哥') # 参数位置可以不按顺序显示。"
   ]
  },
  {
   "cell_type": "code",
   "execution_count": 88,
   "metadata": {},
   "outputs": [
    {
     "name": "stdout",
     "output_type": "stream",
     "text": [
      "亲爱的小哥哥：\n",
      "您好，祝您情人节快乐!\n"
     ]
    }
   ],
   "source": [
    "姓名 = '小哥哥'\n",
    "节日名称 = '情人节快乐'\n",
    "print('''亲爱的{填写姓名}：\n",
    "您好，祝您{填写节日名称}!'''.format(填写姓名=姓名,填写节日名称=节日名称))"
   ]
  },
  {
   "cell_type": "markdown",
   "metadata": {},
   "source": [
    "#### 练习"
   ]
  },
  {
   "cell_type": "markdown",
   "metadata": {},
   "source": [
    "场景：用Python设计一个程序，可以打印一下祝福语：  \n",
    "\n",
    "致某某某：  \n",
    "&emsp;&emsp;今年是XXXX年的元旦，  \n",
    "    &emsp;&emsp;我的祝福送四方，  \n",
    "    &emsp;&emsp;东方送你摇钱树，  \n",
    "    &emsp;&emsp;西方送你永安康，  \n",
    "    &emsp;&emsp;南方送你成功路，  \n",
    "    &emsp;&emsp;北方送你钱满仓。  \n",
    "    &emsp;&emsp;四面八方全送到金银财宝当头照，  \n",
    "    &emsp;&emsp;新年快乐。  \n",
    "&emsp;&emsp;&emsp;&emsp;&emsp;&emsp;&emsp;&emsp;——你的某某某  \n",
    "\n",
    "使用字符串对象的format()的方法，将第一个某某某替换成你想要祝福的人名（从键盘获取），XXXX年替换成你想要输入的年份（从键盘获取），第二个某某某可以替换成你的名字从键盘获取。 "
   ]
  },
  {
   "cell_type": "code",
   "execution_count": null,
   "metadata": {},
   "outputs": [],
   "source": []
  },
  {
   "cell_type": "code",
   "execution_count": null,
   "metadata": {},
   "outputs": [],
   "source": []
  },
  {
   "cell_type": "markdown",
   "metadata": {},
   "source": [
    "## 字符串的方法总览（供同学们查阅）"
   ]
  },
  {
   "cell_type": "markdown",
   "metadata": {},
   "source": [
    "| 方法 | 描述\n",
    "|----|----|\n",
    "| title() | 每个单词首字母大写\n",
    "| lower()/upper() | 全部小写/大写\n",
    "| capitalize() | 首字母大写，其余小写\n",
    "| swapcase() | 反转大小写\n",
    "| join(seq) | 以指定字符串作为分隔符，将 seq 中所有的元素(的字符串表示)合并为一个新的字符串，相对于运算符而言，性能更佳\n",
    "| rstrip() | 删除字符串字符串末尾的空格.\n",
    "| istrip() | 删除字符串开头的空格\n",
    "| strip([chars]) | 在字符串上执行 lstrip()和 rstrip()\n",
    "| ljust(width[, fillchar]) | 返回一个原字符串左对齐,并使用 fillchar 填充至长度 width 的新字符串，fillchar 默认为空格。\n",
    "| rjust(width,[, fillchar]) | 返回一个原字符串右对齐,并使用fillchar(默认空格）填充至长度 width 的新字符串\n",
    "| zfill (width) | 返回长度为 width 的字符串，原字符串右对齐，前面填充0\n",
    "| bytes.decode(encoding=\"utf-8\", errors=\"strict\") |  Python3 中没有 decode 方法，但我们可以使用 bytes 对象的 decode() 方法来解码给定的 bytes 对象，这个 bytes 对象可以由 str.encode() 来编码返回。\n",
    "| len(string) | 返回字符串长度\n",
    "| center(width, fillchar) | 返回一个指定的宽度 width 居中的字符串，fillchar 为填充的字符，默认为空格。\n",
    "| count(str, beg= 0,end=len(string)) |  返回 str 在 string 里面出现的次数，如果 beg 或者 end 指定则返回指定范围内 str 出现的次数\n",
    "| find(str, beg=0 end=len(string)) | 检测 str 是否包含在字符串中，如果指定范围 beg 和 end ，则检查是否包含在指定范围内，如果包含返回开始的索引值，否则返回-1\n",
    "| index(str, beg=0, end=len(string)) | 跟find()方法一样，只不过如果str不在字符串中会报一个异常.\n",
    "| rfind(str, beg=0,end=len(string)) | 类似于 find()函数，不过是从右边开始查找.\n",
    "| startswith(str, beg=0,end=len(string)) | 检查字符串是否是以 obj 开头，是则返回 True，否则返回 False。如果beg 和 end 指定值，则在指定范围内检查。\n",
    "| endswith(suffix, beg=0, end=len(string)) | 检查字符串是否以 obj 结束，如果beg 或者 end 指定则检查指定的范围内是否以 obj 结束，如果是，返回 True,否则返回 False\n",
    "| max(str) | 返回字符串 str 中最大的字母。\n",
    "| min(str) | 返回字符串 str 中最小的字母。\n",
    "| lstrip() | 截掉字符串左边的空格或指定字符。\n",
    "| isalnum() | 如果字符串至少有一个字符并且所有字符都是字母或数字则返 回 True,否则返回 False\n",
    "| isalpha() | 如果字符串至少有一个字符并且所有字符都是字母则返回 True, 否则返回 False\n",
    "| isdigit() | 如果字符串只包含数字则返回 True 否则返回 False..\n",
    "| islower() | 如果字符串中包含至少一个区分大小写的字符，并且所有这些(区分大小写的)字符都是小写，则返回 True，否则返回 False\n",
    "| isnumeric() | 如果字符串中只包含数字字符，则返回 True，否则返回 False\n",
    "| isspace() | 如果字符串中只包含空白，则返回 True，否则返回 False.\n",
    "| istitle() | 如果字符串是标题化的(见 title())则返回 True，否则返回 False\n",
    "| isupper() | 如果字符串中包含至少一个区分大小写的字符，并且所有这些(区分大小写的)字符都是大写，则返回 True，否则返回 False\n",
    "| isdecimal() | 检查字符串是否只包含十进制字符，如果是返回 true，否则返回 false。\n",
    "| rindex( str, beg=0, end=len(string)) | 类似于 index()，不过是从右边开始.\n",
    "| index(str, beg=0, end=len(string)) | 跟find()方法一样，只不过如果str不在字符串中会报一个异常\n",
    "| split(str=\"\", num=string.count(str)) | num=string.count(str)) 以 str 为分隔符截取字符串，如果 num 有指定值，则仅截取 num 个子字符串\n",
    "| replace(old, new [, max]) | 将字符串中的 str1 替换成 str2,如果 max 指定，则替换不超过 max 次。\n",
    "| splitlines([keepends]) | 按照行('\\r', '\\r\\n', \\n')分隔，返回一个包含各行作为元素的列表，如果参数 keepends 为 False，不包含换行符，如果为 True，则保留换行符。\n",
    "| translate(table, deletechars=\"\") | 根据 str 给出的表(包含 256 个字符)转换 string 的字符, 要过滤掉的字符放到 deletechars 参数中\n",
    "| maketrans() | 创建字符映射的转换表，对于接受两个参数的最简单的调用方式，第一个参数是字符串，表示需要转换的字符，第二个参数也是字符串表示转换的目标。\n",
    "| expandtabs(tabsize=8) | 把字符串 string 中的 tab 符号转为空格，tab 符号默认的空格数是 8 。"
   ]
  },
  {
   "cell_type": "code",
   "execution_count": null,
   "metadata": {},
   "outputs": [],
   "source": []
  }
 ],
 "metadata": {
  "kernelspec": {
   "display_name": "Python 3",
   "language": "python",
   "name": "python3"
  },
  "language_info": {
   "codemirror_mode": {
    "name": "ipython",
    "version": 3
   },
   "file_extension": ".py",
   "mimetype": "text/x-python",
   "name": "python",
   "nbconvert_exporter": "python",
   "pygments_lexer": "ipython3",
   "version": "3.7.4"
  },
  "toc": {
   "base_numbering": 1,
   "nav_menu": {},
   "number_sections": true,
   "sideBar": true,
   "skip_h1_title": false,
   "title_cell": "Table of Contents",
   "title_sidebar": "Contents",
   "toc_cell": false,
   "toc_position": {
    "height": "calc(100% - 180px)",
    "left": "10px",
    "top": "150px",
    "width": "232.542px"
   },
   "toc_section_display": true,
   "toc_window_display": true
  }
 },
 "nbformat": 4,
 "nbformat_minor": 2
}
