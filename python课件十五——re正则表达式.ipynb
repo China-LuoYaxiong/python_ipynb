{
 "cells": [
  {
   "cell_type": "markdown",
   "metadata": {
    "toc": true
   },
   "source": [
    "<h1>Table of Contents<span class=\"tocSkip\"></span></h1>\n",
    "<div class=\"toc\"><ul class=\"toc-item\"><li><span><a href=\"#\\w匹配数字--字母--及--下划线\" data-toc-modified-id=\"\\w匹配数字--字母--及--下划线-1\"><span class=\"toc-item-num\">1&nbsp;&nbsp;</span>\\w匹配数字  字母  及  下划线</a></span></li><li><span><a href=\"#\\W匹配非数字--字母--及--下划线\" data-toc-modified-id=\"\\W匹配非数字--字母--及--下划线-2\"><span class=\"toc-item-num\">2&nbsp;&nbsp;</span>\\W匹配非数字  字母  及  下划线</a></span></li><li><span><a href=\"#\\s匹配-任意空白字符，-等价于-[\\t\\r\\n\\f]\" data-toc-modified-id=\"\\s匹配-任意空白字符，-等价于-[\\t\\r\\n\\f]-3\"><span class=\"toc-item-num\">3&nbsp;&nbsp;</span>\\s匹配 任意空白字符， 等价于 [\\t\\r\\n\\f]</a></span></li><li><span><a href=\"#\\S匹配-任意非空白字符\" data-toc-modified-id=\"\\S匹配-任意非空白字符-4\"><span class=\"toc-item-num\">4&nbsp;&nbsp;</span>\\S匹配 任意非空白字符</a></span></li><li><span><a href=\"#\\d匹配0到9的任意一个数字，-等价于[0-9]\" data-toc-modified-id=\"\\d匹配0到9的任意一个数字，-等价于[0-9]-5\"><span class=\"toc-item-num\">5&nbsp;&nbsp;</span>\\d匹配0到9的任意一个数字， 等价于[0-9]</a></span></li><li><span><a href=\"#\\D匹配任意非数字\" data-toc-modified-id=\"\\D匹配任意非数字-6\"><span class=\"toc-item-num\">6&nbsp;&nbsp;</span>\\D匹配任意非数字</a></span></li><li><span><a href=\"#\\A匹配字符串开头\" data-toc-modified-id=\"\\A匹配字符串开头-7\"><span class=\"toc-item-num\">7&nbsp;&nbsp;</span>\\A匹配字符串开头</a></span></li><li><span><a href=\"#^匹配字符串的开头\" data-toc-modified-id=\"^匹配字符串的开头-8\"><span class=\"toc-item-num\">8&nbsp;&nbsp;</span>^匹配字符串的开头</a></span></li><li><span><a href=\"#\\Z匹配字符串结尾,-若结尾换行，-则只匹配到换行前的字符串\" data-toc-modified-id=\"\\Z匹配字符串结尾,-若结尾换行，-则只匹配到换行前的字符串-9\"><span class=\"toc-item-num\">9&nbsp;&nbsp;</span>\\Z匹配字符串结尾, 若结尾换行， 则只匹配到换行前的字符串</a></span></li><li><span><a href=\"#$--匹配字符串结尾\" data-toc-modified-id=\"$--匹配字符串结尾-10\"><span class=\"toc-item-num\">10&nbsp;&nbsp;</span>$  匹配字符串结尾</a></span></li><li><span><a href=\"#.--匹配除换行符之外的任意字符，-当re.DOTALL被标记时，-换行符也可匹配\" data-toc-modified-id=\".--匹配除换行符之外的任意字符，-当re.DOTALL被标记时，-换行符也可匹配-11\"><span class=\"toc-item-num\">11&nbsp;&nbsp;</span>.  匹配除换行符之外的任意字符， 当re.DOTALL被标记时， 换行符也可匹配</a></span></li><li><span><a href=\"#[abc]表示匹配-a或者b或者c\" data-toc-modified-id=\"[abc]表示匹配-a或者b或者c-12\"><span class=\"toc-item-num\">12&nbsp;&nbsp;</span>[abc]表示匹配 a或者b或者c</a></span></li><li><span><a href=\"#[^abc]表示匹配-除a-b-c之外的任意字符\" data-toc-modified-id=\"[^abc]表示匹配-除a-b-c之外的任意字符-13\"><span class=\"toc-item-num\">13&nbsp;&nbsp;</span>[^abc]表示匹配 除a b c之外的任意字符</a></span></li><li><span><a href=\"#*-表示匹配前一个字符任意次\" data-toc-modified-id=\"*-表示匹配前一个字符任意次-14\"><span class=\"toc-item-num\">14&nbsp;&nbsp;</span>* 表示匹配前一个字符任意次</a></span></li><li><span><a href=\"#?匹配前一个字符0次或者1次\" data-toc-modified-id=\"?匹配前一个字符0次或者1次-15\"><span class=\"toc-item-num\">15&nbsp;&nbsp;</span>?匹配前一个字符0次或者1次</a></span></li><li><span><a href=\"#+-匹配前一个字符任意非0次\" data-toc-modified-id=\"+-匹配前一个字符任意非0次-16\"><span class=\"toc-item-num\">16&nbsp;&nbsp;</span>+ 匹配前一个字符任意非0次</a></span></li><li><span><a href=\"#{n}匹配前一个字符出现n次\" data-toc-modified-id=\"{n}匹配前一个字符出现n次-17\"><span class=\"toc-item-num\">17&nbsp;&nbsp;</span>{n}匹配前一个字符出现n次</a></span></li><li><span><a href=\"#{n,-m}匹配前一个字符至少出现n次,-至多出现m次\" data-toc-modified-id=\"{n,-m}匹配前一个字符至少出现n次,-至多出现m次-18\"><span class=\"toc-item-num\">18&nbsp;&nbsp;</span>{n, m}匹配前一个字符至少出现n次, 至多出现m次</a></span></li><li><span><a href=\"#分组\" data-toc-modified-id=\"分组-19\"><span class=\"toc-item-num\">19&nbsp;&nbsp;</span>分组</a></span></li></ul></div>"
   ]
  },
  {
   "cell_type": "code",
   "execution_count": 135,
   "metadata": {},
   "outputs": [],
   "source": [
    "import re"
   ]
  },
  {
   "cell_type": "markdown",
   "metadata": {},
   "source": [
    "### \\w匹配数字  字母  及  下划线"
   ]
  },
  {
   "cell_type": "code",
   "execution_count": 136,
   "metadata": {},
   "outputs": [
    {
     "data": {
      "text/plain": [
       "['a', 's', 'a', '2', '_', '2']"
      ]
     },
     "execution_count": 136,
     "metadata": {},
     "output_type": "execute_result"
    }
   ],
   "source": [
    "re.findall('\\w', 'as?a2_2')"
   ]
  },
  {
   "cell_type": "markdown",
   "metadata": {},
   "source": [
    "### \\W匹配非数字  字母  及  下划线"
   ]
  },
  {
   "cell_type": "code",
   "execution_count": 137,
   "metadata": {},
   "outputs": [
    {
     "data": {
      "text/plain": [
       "['?']"
      ]
     },
     "execution_count": 137,
     "metadata": {},
     "output_type": "execute_result"
    }
   ],
   "source": [
    "re.findall('\\W', 'as?a2_2')"
   ]
  },
  {
   "cell_type": "markdown",
   "metadata": {},
   "source": [
    "### \\s匹配 任意空白字符， 等价于 [\\t\\r\\n\\f]"
   ]
  },
  {
   "cell_type": "code",
   "execution_count": 138,
   "metadata": {},
   "outputs": [
    {
     "data": {
      "text/plain": [
       "['\\t', ' ', ' ', '\\x0c', '\\n']"
      ]
     },
     "execution_count": 138,
     "metadata": {},
     "output_type": "execute_result"
    }
   ],
   "source": [
    "re.findall('\\s', '\\t a 2\\f2\\n')\n",
    "##\\n \\t都是空,都可以被\\s匹配"
   ]
  },
  {
   "cell_type": "markdown",
   "metadata": {},
   "source": [
    "### \\S匹配 任意非空白字符"
   ]
  },
  {
   "cell_type": "code",
   "execution_count": 139,
   "metadata": {},
   "outputs": [
    {
     "data": {
      "text/plain": [
       "['a', '2', '2', '?']"
      ]
     },
     "execution_count": 139,
     "metadata": {},
     "output_type": "execute_result"
    }
   ],
   "source": [
    "re.findall('\\S', '\\t a 2\\f2?') "
   ]
  },
  {
   "cell_type": "markdown",
   "metadata": {},
   "source": [
    "### \\d匹配0到9的任意一个数字， 等价于[0-9]"
   ]
  },
  {
   "cell_type": "code",
   "execution_count": 140,
   "metadata": {},
   "outputs": [
    {
     "data": {
      "text/plain": [
       "['6', '8', '7', '6', '8', '9']"
      ]
     },
     "execution_count": 140,
     "metadata": {},
     "output_type": "execute_result"
    }
   ],
   "source": [
    "re.findall('\\d', 'asd68a7s6dljasd89')"
   ]
  },
  {
   "cell_type": "code",
   "execution_count": 141,
   "metadata": {},
   "outputs": [
    {
     "data": {
      "text/plain": [
       "['6', '8', '7', '6', '8', '9']"
      ]
     },
     "execution_count": 141,
     "metadata": {},
     "output_type": "execute_result"
    }
   ],
   "source": [
    "re.findall('[0-9]', 'asd68a7s6dljasd89')"
   ]
  },
  {
   "cell_type": "markdown",
   "metadata": {},
   "source": [
    "### \\D匹配任意非数字"
   ]
  },
  {
   "cell_type": "code",
   "execution_count": 142,
   "metadata": {},
   "outputs": [
    {
     "data": {
      "text/plain": [
       "['a', 's', 'd', 'a', 's', 'd', 'l', 'j', 'a', 's', 'd']"
      ]
     },
     "execution_count": 142,
     "metadata": {},
     "output_type": "execute_result"
    }
   ],
   "source": [
    "re.findall('\\D', 'asd68a7s6dljasd89')"
   ]
  },
  {
   "cell_type": "markdown",
   "metadata": {},
   "source": [
    "### \\A匹配字符串开头"
   ]
  },
  {
   "cell_type": "code",
   "execution_count": 143,
   "metadata": {},
   "outputs": [
    {
     "data": {
      "text/plain": [
       "['as']"
      ]
     },
     "execution_count": 143,
     "metadata": {},
     "output_type": "execute_result"
    }
   ],
   "source": [
    "re.findall('\\Aas', 'asd68a7s6dljasd89')\n",
    "# 如果开头是这个样子， 就匹配取出来"
   ]
  },
  {
   "cell_type": "code",
   "execution_count": 144,
   "metadata": {},
   "outputs": [
    {
     "data": {
      "text/plain": [
       "[]"
      ]
     },
     "execution_count": 144,
     "metadata": {},
     "output_type": "execute_result"
    }
   ],
   "source": [
    "re.findall('\\Aab', 'asd68a7s6dljasd89')\n",
    "# 如果开头不是这个样子，就取不出来"
   ]
  },
  {
   "cell_type": "markdown",
   "metadata": {},
   "source": [
    "### ^匹配字符串的开头"
   ]
  },
  {
   "cell_type": "code",
   "execution_count": 145,
   "metadata": {},
   "outputs": [
    {
     "data": {
      "text/plain": [
       "['as']"
      ]
     },
     "execution_count": 145,
     "metadata": {},
     "output_type": "execute_result"
    }
   ],
   "source": [
    "re.findall('^as', 'asd68a7s6dljasd89')\n",
    "# 如果开头是这个样子， 就匹配取出来"
   ]
  },
  {
   "cell_type": "code",
   "execution_count": 146,
   "metadata": {},
   "outputs": [
    {
     "data": {
      "text/plain": [
       "[]"
      ]
     },
     "execution_count": 146,
     "metadata": {},
     "output_type": "execute_result"
    }
   ],
   "source": [
    "re.findall('^ab', 'asd68a7s6dljasd89')\n",
    "# 如果开头不是这个样子，就取不出来"
   ]
  },
  {
   "cell_type": "markdown",
   "metadata": {},
   "source": [
    "### \\Z匹配字符串结尾, 若结尾换行， 则只匹配到换行前的字符串"
   ]
  },
  {
   "cell_type": "code",
   "execution_count": 147,
   "metadata": {},
   "outputs": [
    {
     "data": {
      "text/plain": [
       "['89']"
      ]
     },
     "execution_count": 147,
     "metadata": {},
     "output_type": "execute_result"
    }
   ],
   "source": [
    "re.findall('89\\Z', 'asd68a7s6dljasd89')"
   ]
  },
  {
   "cell_type": "code",
   "execution_count": 148,
   "metadata": {},
   "outputs": [
    {
     "data": {
      "text/plain": [
       "[]"
      ]
     },
     "execution_count": 148,
     "metadata": {},
     "output_type": "execute_result"
    }
   ],
   "source": [
    "re.findall('8910\\Z', 'asd68a7s6dljasd89')"
   ]
  },
  {
   "cell_type": "markdown",
   "metadata": {},
   "source": [
    "### $  匹配字符串结尾"
   ]
  },
  {
   "cell_type": "code",
   "execution_count": 149,
   "metadata": {},
   "outputs": [
    {
     "data": {
      "text/plain": [
       "['89']"
      ]
     },
     "execution_count": 149,
     "metadata": {},
     "output_type": "execute_result"
    }
   ],
   "source": [
    "re.findall('89$', 'asd68a7s6dljasd89')"
   ]
  },
  {
   "cell_type": "markdown",
   "metadata": {},
   "source": [
    "### .  匹配除换行符之外的任意字符， 当re.DOTALL被标记时， 换行符也可匹配"
   ]
  },
  {
   "cell_type": "code",
   "execution_count": 150,
   "metadata": {},
   "outputs": [
    {
     "data": {
      "text/plain": [
       "['abs', 'aks', 'aos']"
      ]
     },
     "execution_count": 150,
     "metadata": {},
     "output_type": "execute_result"
    }
   ],
   "source": [
    "re.findall('a.s', 'asdabsdakshhaospaoospa\\ns')\n",
    "# .匹配除\\n之外的任意字符一次"
   ]
  },
  {
   "cell_type": "code",
   "execution_count": 151,
   "metadata": {},
   "outputs": [
    {
     "data": {
      "text/plain": [
       "['abs', 'aks', 'aos', 'a\\ns']"
      ]
     },
     "execution_count": 151,
     "metadata": {},
     "output_type": "execute_result"
    }
   ],
   "source": [
    "re.findall('a.s',  'asdabsdakshhaospaoospa\\ns', re.DOTALL)\n",
    "# re.DOTALL指定， 可以匹配任意字符一次"
   ]
  },
  {
   "cell_type": "markdown",
   "metadata": {},
   "source": [
    "### [abc]表示匹配 a或者b或者c"
   ]
  },
  {
   "cell_type": "code",
   "execution_count": 152,
   "metadata": {},
   "outputs": [
    {
     "data": {
      "text/plain": [
       "['abc']"
      ]
     },
     "execution_count": 152,
     "metadata": {},
     "output_type": "execute_result"
    }
   ],
   "source": [
    "re.findall('a[abc]c', 'abcahcagt')"
   ]
  },
  {
   "cell_type": "markdown",
   "metadata": {},
   "source": [
    "### [^abc]表示匹配 除a b c之外的任意字符 "
   ]
  },
  {
   "cell_type": "code",
   "execution_count": 153,
   "metadata": {},
   "outputs": [
    {
     "data": {
      "text/plain": [
       "['ahc', 'a\\nc']"
      ]
     },
     "execution_count": 153,
     "metadata": {},
     "output_type": "execute_result"
    }
   ],
   "source": [
    "re.findall('a[^abc]c', 'abcahcagta\\nc')"
   ]
  },
  {
   "cell_type": "markdown",
   "metadata": {},
   "source": [
    "### * 表示匹配前一个字符任意次"
   ]
  },
  {
   "cell_type": "code",
   "execution_count": 154,
   "metadata": {},
   "outputs": [
    {
     "data": {
      "text/plain": [
       "['ab', 'abb', 'abbbbb', 'a']"
      ]
     },
     "execution_count": 154,
     "metadata": {},
     "output_type": "execute_result"
    }
   ],
   "source": [
    "re.findall('ab*', 'ababbabbbbbcba')\n",
    "# 可以认为a后面的那个b可以是任意个, 贪婪模式"
   ]
  },
  {
   "cell_type": "markdown",
   "metadata": {},
   "source": [
    "### ?匹配前一个字符0次或者1次"
   ]
  },
  {
   "cell_type": "code",
   "execution_count": 155,
   "metadata": {},
   "outputs": [
    {
     "data": {
      "text/plain": [
       "['ab', 'ab', 'ab', 'a']"
      ]
     },
     "execution_count": 155,
     "metadata": {},
     "output_type": "execute_result"
    }
   ],
   "source": [
    "re.findall('ab?', 'ababbabbbbbcba')\n",
    "# 可以认为a的后面要么一个b， 要么没有b"
   ]
  },
  {
   "cell_type": "code",
   "execution_count": 156,
   "metadata": {},
   "outputs": [
    {
     "data": {
      "text/plain": [
       "['asaadbsdfasb']"
      ]
     },
     "execution_count": 156,
     "metadata": {},
     "output_type": "execute_result"
    }
   ],
   "source": [
    "re.findall('a.*b', 'asaadbsdfasb') \n",
    "# .*就代表匹配所有了"
   ]
  },
  {
   "cell_type": "code",
   "execution_count": 157,
   "metadata": {},
   "outputs": [
    {
     "data": {
      "text/plain": [
       "['asaadb', 'asb']"
      ]
     },
     "execution_count": 157,
     "metadata": {},
     "output_type": "execute_result"
    }
   ],
   "source": [
    "re.findall('a.*?b', 'asaadbsdfasb') \n",
    "# .*?代表进尽可能的短匹配， 非贪婪模式"
   ]
  },
  {
   "cell_type": "markdown",
   "metadata": {},
   "source": [
    "### + 匹配前一个字符任意非0次"
   ]
  },
  {
   "cell_type": "code",
   "execution_count": 158,
   "metadata": {},
   "outputs": [
    {
     "data": {
      "text/plain": [
       "['b', 'bb', 'bbbbb', 'b']"
      ]
     },
     "execution_count": 158,
     "metadata": {},
     "output_type": "execute_result"
    }
   ],
   "source": [
    "re.findall('b+', 'ababbabbbbbcba')\n",
    "# 可以认为b可以是任意非0个"
   ]
  },
  {
   "cell_type": "code",
   "execution_count": 159,
   "metadata": {},
   "outputs": [
    {
     "data": {
      "text/plain": [
       "['1', '23', '342', '2', '22', '23', '4']"
      ]
     },
     "execution_count": 159,
     "metadata": {},
     "output_type": "execute_result"
    }
   ],
   "source": [
    "re.findall('\\d+', 'aba1b23b342ab2b22b23b4bcba')\n",
    "# 提取所有的数字"
   ]
  },
  {
   "cell_type": "markdown",
   "metadata": {},
   "source": [
    "### {n}匹配前一个字符出现n次"
   ]
  },
  {
   "cell_type": "code",
   "execution_count": 160,
   "metadata": {},
   "outputs": [
    {
     "data": {
      "text/plain": [
       "['abb', 'abb']"
      ]
     },
     "execution_count": 160,
     "metadata": {},
     "output_type": "execute_result"
    }
   ],
   "source": [
    "re.findall('ab{2}', 'ababbabbbbbcba')\n",
    "# 就是b出现2次"
   ]
  },
  {
   "cell_type": "markdown",
   "metadata": {},
   "source": [
    "### {n, m}匹配前一个字符至少出现n次, 至多出现m次"
   ]
  },
  {
   "cell_type": "code",
   "execution_count": 177,
   "metadata": {},
   "outputs": [
    {
     "data": {
      "text/plain": [
       "['abb', 'abbb', 'abbb', 'abbb']"
      ]
     },
     "execution_count": 177,
     "metadata": {},
     "output_type": "execute_result"
    }
   ],
   "source": [
    "re.findall('ab{2,3}', 'ababbabbbbbcbabbbbbbabbbb')\n",
    "\n",
    "# 匹配b两次或者3次"
   ]
  },
  {
   "cell_type": "markdown",
   "metadata": {},
   "source": [
    "### 分组"
   ]
  },
  {
   "cell_type": "code",
   "execution_count": 207,
   "metadata": {},
   "outputs": [
    {
     "name": "stdout",
     "output_type": "stream",
     "text": [
      "['ab', 'ab', 'ab']\n"
     ]
    }
   ],
   "source": [
    "print(re.findall('ab+','ababab123')) #['ab', 'ab', 'ab']"
   ]
  },
  {
   "cell_type": "code",
   "execution_count": 208,
   "metadata": {},
   "outputs": [
    {
     "name": "stdout",
     "output_type": "stream",
     "text": [
      "['ab123']\n"
     ]
    }
   ],
   "source": [
    "print(re.findall('ab+123','ababab123')) #['ab']，匹配到末尾的ab123中的ab\n",
    "# 匹配到的是'ab123'"
   ]
  },
  {
   "cell_type": "code",
   "execution_count": 209,
   "metadata": {},
   "outputs": [
    {
     "name": "stdout",
     "output_type": "stream",
     "text": [
      "['ab']\n"
     ]
    }
   ],
   "source": [
    "print(re.findall('(ab)+123','ababab123')) #['ab']，匹配到末尾的ab123中的ab\n",
    "# 匹配到的是'ab123'， 但是只返回括号中的内容"
   ]
  },
  {
   "cell_type": "code",
   "execution_count": 211,
   "metadata": {},
   "outputs": [
    {
     "name": "stdout",
     "output_type": "stream",
     "text": [
      "['ababab123']\n"
     ]
    }
   ],
   "source": [
    "print(re.findall('(?:ab)+123','ababab123'))\n",
    "#findall的结果不是匹配的全部内容，而是组内的内容,?:可以让结果为匹配的全部内容"
   ]
  },
  {
   "cell_type": "code",
   "execution_count": 214,
   "metadata": {},
   "outputs": [
    {
     "name": "stdout",
     "output_type": "stream",
     "text": [
      "['http://www.baidu.com']\n"
     ]
    }
   ],
   "source": [
    "print(re.findall('href=\"(.*?)\"','<a href=\"http://www.baidu.com\">点击</a>'))#['http://www.baidu.com']"
   ]
  },
  {
   "cell_type": "code",
   "execution_count": 215,
   "metadata": {},
   "outputs": [
    {
     "name": "stdout",
     "output_type": "stream",
     "text": [
      "['href=\"http://www.baidu.com\"']\n"
     ]
    }
   ],
   "source": [
    "print(re.findall('href=\"(?:.*?)\"','<a href=\"http://www.baidu.com\">点击</a>'))#['href=\"http://www.baidu.com\"']"
   ]
  },
  {
   "cell_type": "code",
   "execution_count": null,
   "metadata": {},
   "outputs": [],
   "source": []
  },
  {
   "cell_type": "code",
   "execution_count": null,
   "metadata": {},
   "outputs": [],
   "source": []
  }
 ],
 "metadata": {
  "kernelspec": {
   "display_name": "Python 3",
   "language": "python",
   "name": "python3"
  },
  "language_info": {
   "codemirror_mode": {
    "name": "ipython",
    "version": 3
   },
   "file_extension": ".py",
   "mimetype": "text/x-python",
   "name": "python",
   "nbconvert_exporter": "python",
   "pygments_lexer": "ipython3",
   "version": "3.7.6"
  },
  "toc": {
   "base_numbering": 1,
   "nav_menu": {},
   "number_sections": true,
   "sideBar": true,
   "skip_h1_title": false,
   "title_cell": "Table of Contents",
   "title_sidebar": "Contents",
   "toc_cell": true,
   "toc_position": {
    "height": "calc(100% - 180px)",
    "left": "10px",
    "top": "150px",
    "width": "201px"
   },
   "toc_section_display": true,
   "toc_window_display": true
  }
 },
 "nbformat": 4,
 "nbformat_minor": 4
}
